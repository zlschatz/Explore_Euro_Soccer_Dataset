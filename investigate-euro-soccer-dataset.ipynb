{
 "cells": [
  {
   "cell_type": "markdown",
   "metadata": {},
   "source": [
    "\n",
    "# Project: European Soccer Data Analysis\n",
    "##### Comparing match results & goals scored by league\n",
    "\n",
    "## Table of Contents\n",
    "<ul>\n",
    "<li><a href=\"#intro\">Introduction</a></li>\n",
    "<li><a href=\"#wrangling\">Data Wrangling</a></li>\n",
    "<li><a href=\"#eda\">Exploratory Data Analysis</a></li>\n",
    "<li><a href=\"#conclusions\">Conclusions</a></li>\n",
    "<li><a href=\"#resources\">Resources</a></li>\n",
    "</ul>"
   ]
  },
  {
   "cell_type": "markdown",
   "metadata": {},
   "source": [
    "<a id='intro'></a>\n",
    "## Introduction\n",
    "\n",
    "_____\n",
    "\n",
    "In this project, I plan to compare match results across the various European soccer leagues. To complete this project, I will be using the [European Soccer Dataset](https://www.kaggle.com/hugomathien/soccer#database.sqlite), which can be found on Kaggle. This database contains records of European soccer matches that have taken place from 2008 to 2016. This dataset provides good practice with querying a SQLite database and joining tables/dataframes.\n",
    "\n",
    "The first part of my project will explore the win rates of the home and away teams in each league. For each match, there can only be three outcomes: the home team wins, the away team wins or the match is a draw (tie). Although the match result is not explicitly stated in the database, it can be determined by comparing the home team goals scored and away team goals scored in a given match. \n",
    "\n",
    "Although it's not officially measured, athletes, commentators and fans constantly mentioned \"home field advantage\" in connection to match result. Although this exploration will not dive into the causes of home field advtange, I expect there to be a higher rate of home wins against both away wins and draws. Perhaps the breakdown of match result by league will allow us to determine which league matches are most likely to end in a home team win.\n",
    "\n",
    "The second part of this project will then compare goals scored per match in each league. If the assumption that the home team most often wins a given match proves to be true, then we can hypothesize that the average number of goals scored by the home team in a match will be greater than the average number of goals scored by the away team. After this analysis, I should be able to determine which league matches are most likely to have the most goals scored in a game. \n",
    "\n",
    "Let's get started!\n",
    "__________________"
   ]
  },
  {
   "cell_type": "code",
   "execution_count": 125,
   "metadata": {},
   "outputs": [],
   "source": [
    "# Import packages for project\n",
    "import pandas as pd\n",
    "import sqlite3\n",
    "import numpy as np"
   ]
  },
  {
   "cell_type": "markdown",
   "metadata": {},
   "source": [
    "<a id='wrangling'></a>\n",
    "## Data Wrangling\n",
    "___\n",
    "In this section, I will load each table from the SQLite database, and inspect the data for cleanliness. At this point, I will make adjustments for any missing values, unnecessary columns, etc. Taking time to understand the dataset will help me with upcoming analysis.\n",
    "\n",
    "### General Properties"
   ]
  },
  {
   "cell_type": "code",
   "execution_count": 126,
   "metadata": {},
   "outputs": [],
   "source": [
    "# read sqlite query results into a pandas DataFrame\n",
    "\n",
    "con = sqlite3.connect(\"./database.sqlite\")\n",
    "\n",
    "df_team = pd.read_sql_query(\"SELECT team_api_id, team_long_name from Team\", con)\n",
    "df_match = pd.read_sql_query(\"SELECT match_api_id, date, league_id, stage, home_team_api_id, away_team_api_id, home_team_goal, away_team_goal from Match\", con)\n",
    "df_league = pd.read_sql_query(\"SELECT id, name from League\", con)\n",
    "\n",
    "con.close()"
   ]
  },
  {
   "cell_type": "code",
   "execution_count": 127,
   "metadata": {},
   "outputs": [
    {
     "data": {
      "text/html": [
       "<div>\n",
       "<style scoped>\n",
       "    .dataframe tbody tr th:only-of-type {\n",
       "        vertical-align: middle;\n",
       "    }\n",
       "\n",
       "    .dataframe tbody tr th {\n",
       "        vertical-align: top;\n",
       "    }\n",
       "\n",
       "    .dataframe thead th {\n",
       "        text-align: right;\n",
       "    }\n",
       "</style>\n",
       "<table border=\"1\" class=\"dataframe\">\n",
       "  <thead>\n",
       "    <tr style=\"text-align: right;\">\n",
       "      <th></th>\n",
       "      <th>team_api_id</th>\n",
       "      <th>team_long_name</th>\n",
       "    </tr>\n",
       "  </thead>\n",
       "  <tbody>\n",
       "    <tr>\n",
       "      <td>0</td>\n",
       "      <td>9987</td>\n",
       "      <td>KRC Genk</td>\n",
       "    </tr>\n",
       "  </tbody>\n",
       "</table>\n",
       "</div>"
      ],
      "text/plain": [
       "   team_api_id team_long_name\n",
       "0         9987       KRC Genk"
      ]
     },
     "execution_count": 127,
     "metadata": {},
     "output_type": "execute_result"
    }
   ],
   "source": [
    "# Verify Team table has been saved as df_team dataframe\n",
    "\n",
    "df_team.head(1)"
   ]
  },
  {
   "cell_type": "code",
   "execution_count": 128,
   "metadata": {},
   "outputs": [
    {
     "data": {
      "text/html": [
       "<div>\n",
       "<style scoped>\n",
       "    .dataframe tbody tr th:only-of-type {\n",
       "        vertical-align: middle;\n",
       "    }\n",
       "\n",
       "    .dataframe tbody tr th {\n",
       "        vertical-align: top;\n",
       "    }\n",
       "\n",
       "    .dataframe thead th {\n",
       "        text-align: right;\n",
       "    }\n",
       "</style>\n",
       "<table border=\"1\" class=\"dataframe\">\n",
       "  <thead>\n",
       "    <tr style=\"text-align: right;\">\n",
       "      <th></th>\n",
       "      <th>match_api_id</th>\n",
       "      <th>date</th>\n",
       "      <th>league_id</th>\n",
       "      <th>stage</th>\n",
       "      <th>home_team_api_id</th>\n",
       "      <th>away_team_api_id</th>\n",
       "      <th>home_team_goal</th>\n",
       "      <th>away_team_goal</th>\n",
       "    </tr>\n",
       "  </thead>\n",
       "  <tbody>\n",
       "    <tr>\n",
       "      <td>0</td>\n",
       "      <td>492473</td>\n",
       "      <td>2008-08-17 00:00:00</td>\n",
       "      <td>1</td>\n",
       "      <td>1</td>\n",
       "      <td>9987</td>\n",
       "      <td>9993</td>\n",
       "      <td>1</td>\n",
       "      <td>1</td>\n",
       "    </tr>\n",
       "  </tbody>\n",
       "</table>\n",
       "</div>"
      ],
      "text/plain": [
       "   match_api_id                 date  league_id  stage  home_team_api_id  \\\n",
       "0        492473  2008-08-17 00:00:00          1      1              9987   \n",
       "\n",
       "   away_team_api_id  home_team_goal  away_team_goal  \n",
       "0              9993               1               1  "
      ]
     },
     "execution_count": 128,
     "metadata": {},
     "output_type": "execute_result"
    }
   ],
   "source": [
    "# Verify Match table has been saved as df_match dataframe\n",
    "\n",
    "df_match.head(1)"
   ]
  },
  {
   "cell_type": "code",
   "execution_count": 129,
   "metadata": {},
   "outputs": [
    {
     "data": {
      "text/html": [
       "<div>\n",
       "<style scoped>\n",
       "    .dataframe tbody tr th:only-of-type {\n",
       "        vertical-align: middle;\n",
       "    }\n",
       "\n",
       "    .dataframe tbody tr th {\n",
       "        vertical-align: top;\n",
       "    }\n",
       "\n",
       "    .dataframe thead th {\n",
       "        text-align: right;\n",
       "    }\n",
       "</style>\n",
       "<table border=\"1\" class=\"dataframe\">\n",
       "  <thead>\n",
       "    <tr style=\"text-align: right;\">\n",
       "      <th></th>\n",
       "      <th>id</th>\n",
       "      <th>name</th>\n",
       "    </tr>\n",
       "  </thead>\n",
       "  <tbody>\n",
       "    <tr>\n",
       "      <td>0</td>\n",
       "      <td>1</td>\n",
       "      <td>Belgium Jupiler League</td>\n",
       "    </tr>\n",
       "  </tbody>\n",
       "</table>\n",
       "</div>"
      ],
      "text/plain": [
       "   id                    name\n",
       "0   1  Belgium Jupiler League"
      ]
     },
     "execution_count": 129,
     "metadata": {},
     "output_type": "execute_result"
    }
   ],
   "source": [
    "# Verify League table has been saved as df_league dataframe\n",
    "\n",
    "df_league.head(1)"
   ]
  },
  {
   "cell_type": "code",
   "execution_count": 130,
   "metadata": {},
   "outputs": [
    {
     "name": "stdout",
     "output_type": "stream",
     "text": [
      "<class 'pandas.core.frame.DataFrame'>\n",
      "RangeIndex: 299 entries, 0 to 298\n",
      "Data columns (total 2 columns):\n",
      "team_api_id       299 non-null int64\n",
      "team_long_name    299 non-null object\n",
      "dtypes: int64(1), object(1)\n",
      "memory usage: 4.8+ KB\n"
     ]
    }
   ],
   "source": [
    "# check df_team for null values\n",
    "\n",
    "df_team.info()"
   ]
  },
  {
   "cell_type": "code",
   "execution_count": 131,
   "metadata": {},
   "outputs": [
    {
     "name": "stdout",
     "output_type": "stream",
     "text": [
      "<class 'pandas.core.frame.DataFrame'>\n",
      "RangeIndex: 25979 entries, 0 to 25978\n",
      "Data columns (total 8 columns):\n",
      "match_api_id        25979 non-null int64\n",
      "date                25979 non-null object\n",
      "league_id           25979 non-null int64\n",
      "stage               25979 non-null int64\n",
      "home_team_api_id    25979 non-null int64\n",
      "away_team_api_id    25979 non-null int64\n",
      "home_team_goal      25979 non-null int64\n",
      "away_team_goal      25979 non-null int64\n",
      "dtypes: int64(7), object(1)\n",
      "memory usage: 1.6+ MB\n"
     ]
    }
   ],
   "source": [
    "# check df_match for null values\n",
    "\n",
    "df_match.info()"
   ]
  },
  {
   "cell_type": "code",
   "execution_count": 132,
   "metadata": {},
   "outputs": [
    {
     "name": "stdout",
     "output_type": "stream",
     "text": [
      "<class 'pandas.core.frame.DataFrame'>\n",
      "RangeIndex: 11 entries, 0 to 10\n",
      "Data columns (total 2 columns):\n",
      "id      11 non-null int64\n",
      "name    11 non-null object\n",
      "dtypes: int64(1), object(1)\n",
      "memory usage: 304.0+ bytes\n"
     ]
    }
   ],
   "source": [
    "# check df_league for null values\n",
    "\n",
    "df_league.info()"
   ]
  },
  {
   "cell_type": "markdown",
   "metadata": {},
   "source": [
    "### Total Game in Dataset: 25,979\n",
    "\n",
    "##### No null values present in this dataset\n",
    "\n",
    "After displaying the info above, it is apparent the same number of data points are present in each column of each table. This means that there are no missing values in any of the tables. Woohoo! Had there been any null values, I would have additional data cleaning at this point. "
   ]
  },
  {
   "cell_type": "code",
   "execution_count": 133,
   "metadata": {},
   "outputs": [
    {
     "data": {
      "text/plain": [
       "count    25979.000000\n",
       "mean         1.544594\n",
       "std          1.297158\n",
       "min          0.000000\n",
       "25%          1.000000\n",
       "50%          1.000000\n",
       "75%          2.000000\n",
       "max         10.000000\n",
       "Name: home_team_goal, dtype: float64"
      ]
     },
     "execution_count": 133,
     "metadata": {},
     "output_type": "execute_result"
    }
   ],
   "source": [
    "df_match['home_team_goal'].describe()"
   ]
  },
  {
   "cell_type": "code",
   "execution_count": 134,
   "metadata": {},
   "outputs": [
    {
     "data": {
      "text/plain": [
       "count    25979.000000\n",
       "mean         1.160938\n",
       "std          1.142110\n",
       "min          0.000000\n",
       "25%          0.000000\n",
       "50%          1.000000\n",
       "75%          2.000000\n",
       "max          9.000000\n",
       "Name: away_team_goal, dtype: float64"
      ]
     },
     "execution_count": 134,
     "metadata": {},
     "output_type": "execute_result"
    }
   ],
   "source": [
    "df_match['away_team_goal'].describe()"
   ]
  },
  {
   "cell_type": "markdown",
   "metadata": {},
   "source": [
    "#### *Further investigation of home & away team goals*\n",
    "\n",
    "The outputs of means and percentiles gives a good outline of what the data will demonstrate. The mean of home team goals per game is nearly 0.4 goals greater than the away team goals per game. It is also interesting the 50th and 75th percentile outcomes are identical for both home and away goals scored per game. However, in the 25th percentile, there is one goal per game for the home team and zero goals per game for the away team. In the scenario where both teams under-perform, the home team has an advantage to win the game.  "
   ]
  },
  {
   "cell_type": "markdown",
   "metadata": {},
   "source": [
    "### Data Cleaning: Renaming Columns In Preparation of Merging Dataframes"
   ]
  },
  {
   "cell_type": "code",
   "execution_count": 135,
   "metadata": {},
   "outputs": [
    {
     "data": {
      "text/html": [
       "<div>\n",
       "<style scoped>\n",
       "    .dataframe tbody tr th:only-of-type {\n",
       "        vertical-align: middle;\n",
       "    }\n",
       "\n",
       "    .dataframe tbody tr th {\n",
       "        vertical-align: top;\n",
       "    }\n",
       "\n",
       "    .dataframe thead th {\n",
       "        text-align: right;\n",
       "    }\n",
       "</style>\n",
       "<table border=\"1\" class=\"dataframe\">\n",
       "  <thead>\n",
       "    <tr style=\"text-align: right;\">\n",
       "      <th></th>\n",
       "      <th>home_team_api_id</th>\n",
       "      <th>home_team_name</th>\n",
       "    </tr>\n",
       "  </thead>\n",
       "  <tbody>\n",
       "    <tr>\n",
       "      <td>0</td>\n",
       "      <td>9987</td>\n",
       "      <td>KRC Genk</td>\n",
       "    </tr>\n",
       "  </tbody>\n",
       "</table>\n",
       "</div>"
      ],
      "text/plain": [
       "   home_team_api_id home_team_name\n",
       "0              9987       KRC Genk"
      ]
     },
     "execution_count": 135,
     "metadata": {},
     "output_type": "execute_result"
    }
   ],
   "source": [
    "# Rename columns in df_team and save titles to new home team dataframe\n",
    "\n",
    "df_home_team = df_team.rename(columns={\"team_api_id\": \"home_team_api_id\", \"team_long_name\": \"home_team_name\"})\n",
    "\n",
    "df_home_team.head(1)"
   ]
  },
  {
   "cell_type": "code",
   "execution_count": 136,
   "metadata": {},
   "outputs": [
    {
     "data": {
      "text/html": [
       "<div>\n",
       "<style scoped>\n",
       "    .dataframe tbody tr th:only-of-type {\n",
       "        vertical-align: middle;\n",
       "    }\n",
       "\n",
       "    .dataframe tbody tr th {\n",
       "        vertical-align: top;\n",
       "    }\n",
       "\n",
       "    .dataframe thead th {\n",
       "        text-align: right;\n",
       "    }\n",
       "</style>\n",
       "<table border=\"1\" class=\"dataframe\">\n",
       "  <thead>\n",
       "    <tr style=\"text-align: right;\">\n",
       "      <th></th>\n",
       "      <th>away_team_api_id</th>\n",
       "      <th>away_team_name</th>\n",
       "    </tr>\n",
       "  </thead>\n",
       "  <tbody>\n",
       "    <tr>\n",
       "      <td>0</td>\n",
       "      <td>9987</td>\n",
       "      <td>KRC Genk</td>\n",
       "    </tr>\n",
       "  </tbody>\n",
       "</table>\n",
       "</div>"
      ],
      "text/plain": [
       "   away_team_api_id away_team_name\n",
       "0              9987       KRC Genk"
      ]
     },
     "execution_count": 136,
     "metadata": {},
     "output_type": "execute_result"
    }
   ],
   "source": [
    "# Rename columns in df_team and save titles to new away team dataframe\n",
    "\n",
    "df_away_team = df_team.rename(columns={\"team_api_id\": \"away_team_api_id\", \"team_long_name\": \"away_team_name\"})\n",
    "\n",
    "df_away_team.head(1)"
   ]
  },
  {
   "cell_type": "code",
   "execution_count": 137,
   "metadata": {},
   "outputs": [
    {
     "data": {
      "text/html": [
       "<div>\n",
       "<style scoped>\n",
       "    .dataframe tbody tr th:only-of-type {\n",
       "        vertical-align: middle;\n",
       "    }\n",
       "\n",
       "    .dataframe tbody tr th {\n",
       "        vertical-align: top;\n",
       "    }\n",
       "\n",
       "    .dataframe thead th {\n",
       "        text-align: right;\n",
       "    }\n",
       "</style>\n",
       "<table border=\"1\" class=\"dataframe\">\n",
       "  <thead>\n",
       "    <tr style=\"text-align: right;\">\n",
       "      <th></th>\n",
       "      <th>match_api_id</th>\n",
       "      <th>date</th>\n",
       "      <th>league_id</th>\n",
       "      <th>stage</th>\n",
       "      <th>home_team_api_id</th>\n",
       "      <th>away_team_api_id</th>\n",
       "      <th>home_team_goal</th>\n",
       "      <th>away_team_goal</th>\n",
       "      <th>home_team_name</th>\n",
       "    </tr>\n",
       "  </thead>\n",
       "  <tbody>\n",
       "    <tr>\n",
       "      <td>0</td>\n",
       "      <td>492473</td>\n",
       "      <td>2008-08-17 00:00:00</td>\n",
       "      <td>1</td>\n",
       "      <td>1</td>\n",
       "      <td>9987</td>\n",
       "      <td>9993</td>\n",
       "      <td>1</td>\n",
       "      <td>1</td>\n",
       "      <td>KRC Genk</td>\n",
       "    </tr>\n",
       "  </tbody>\n",
       "</table>\n",
       "</div>"
      ],
      "text/plain": [
       "   match_api_id                 date  league_id  stage  home_team_api_id  \\\n",
       "0        492473  2008-08-17 00:00:00          1      1              9987   \n",
       "\n",
       "   away_team_api_id  home_team_goal  away_team_goal home_team_name  \n",
       "0              9993               1               1       KRC Genk  "
      ]
     },
     "execution_count": 137,
     "metadata": {},
     "output_type": "execute_result"
    }
   ],
   "source": [
    "# Merge df_home_team with df_match\n",
    "\n",
    "df_match_combined = pd.merge(df_match, df_home_team, left_on='home_team_api_id', right_on='home_team_api_id')\n",
    "\n",
    "df_match_combined.head(1)"
   ]
  },
  {
   "cell_type": "code",
   "execution_count": 138,
   "metadata": {},
   "outputs": [
    {
     "data": {
      "text/html": [
       "<div>\n",
       "<style scoped>\n",
       "    .dataframe tbody tr th:only-of-type {\n",
       "        vertical-align: middle;\n",
       "    }\n",
       "\n",
       "    .dataframe tbody tr th {\n",
       "        vertical-align: top;\n",
       "    }\n",
       "\n",
       "    .dataframe thead th {\n",
       "        text-align: right;\n",
       "    }\n",
       "</style>\n",
       "<table border=\"1\" class=\"dataframe\">\n",
       "  <thead>\n",
       "    <tr style=\"text-align: right;\">\n",
       "      <th></th>\n",
       "      <th>match_api_id</th>\n",
       "      <th>date</th>\n",
       "      <th>league_id</th>\n",
       "      <th>stage</th>\n",
       "      <th>home_team_api_id</th>\n",
       "      <th>away_team_api_id</th>\n",
       "      <th>home_team_goal</th>\n",
       "      <th>away_team_goal</th>\n",
       "      <th>home_team_name</th>\n",
       "      <th>away_team_name</th>\n",
       "    </tr>\n",
       "  </thead>\n",
       "  <tbody>\n",
       "    <tr>\n",
       "      <td>0</td>\n",
       "      <td>492473</td>\n",
       "      <td>2008-08-17 00:00:00</td>\n",
       "      <td>1</td>\n",
       "      <td>1</td>\n",
       "      <td>9987</td>\n",
       "      <td>9993</td>\n",
       "      <td>1</td>\n",
       "      <td>1</td>\n",
       "      <td>KRC Genk</td>\n",
       "      <td>Beerschot AC</td>\n",
       "    </tr>\n",
       "  </tbody>\n",
       "</table>\n",
       "</div>"
      ],
      "text/plain": [
       "   match_api_id                 date  league_id  stage  home_team_api_id  \\\n",
       "0        492473  2008-08-17 00:00:00          1      1              9987   \n",
       "\n",
       "   away_team_api_id  home_team_goal  away_team_goal home_team_name  \\\n",
       "0              9993               1               1       KRC Genk   \n",
       "\n",
       "  away_team_name  \n",
       "0   Beerschot AC  "
      ]
     },
     "execution_count": 138,
     "metadata": {},
     "output_type": "execute_result"
    }
   ],
   "source": [
    "# Merge df_away_team with previously created df_match_combined dataframe\n",
    "\n",
    "df_match_combined = pd.merge(df_match_combined, df_away_team, left_on='away_team_api_id', right_on='away_team_api_id')\n",
    "\n",
    "df_match_combined.head(1)"
   ]
  },
  {
   "cell_type": "code",
   "execution_count": 139,
   "metadata": {},
   "outputs": [
    {
     "data": {
      "text/html": [
       "<div>\n",
       "<style scoped>\n",
       "    .dataframe tbody tr th:only-of-type {\n",
       "        vertical-align: middle;\n",
       "    }\n",
       "\n",
       "    .dataframe tbody tr th {\n",
       "        vertical-align: top;\n",
       "    }\n",
       "\n",
       "    .dataframe thead th {\n",
       "        text-align: right;\n",
       "    }\n",
       "</style>\n",
       "<table border=\"1\" class=\"dataframe\">\n",
       "  <thead>\n",
       "    <tr style=\"text-align: right;\">\n",
       "      <th></th>\n",
       "      <th>league_id</th>\n",
       "      <th>league_name</th>\n",
       "    </tr>\n",
       "  </thead>\n",
       "  <tbody>\n",
       "    <tr>\n",
       "      <td>0</td>\n",
       "      <td>1</td>\n",
       "      <td>Belgium Jupiler League</td>\n",
       "    </tr>\n",
       "  </tbody>\n",
       "</table>\n",
       "</div>"
      ],
      "text/plain": [
       "   league_id             league_name\n",
       "0          1  Belgium Jupiler League"
      ]
     },
     "execution_count": 139,
     "metadata": {},
     "output_type": "execute_result"
    }
   ],
   "source": [
    "# Rename columns in df_league and save as df_league_revised\n",
    "\n",
    "df_league_revised = df_league.rename(columns={\"id\": \"league_id\", \"name\": \"league_name\"})\n",
    "\n",
    "df_league_revised.head(1)"
   ]
  },
  {
   "cell_type": "code",
   "execution_count": 140,
   "metadata": {},
   "outputs": [
    {
     "data": {
      "text/html": [
       "<div>\n",
       "<style scoped>\n",
       "    .dataframe tbody tr th:only-of-type {\n",
       "        vertical-align: middle;\n",
       "    }\n",
       "\n",
       "    .dataframe tbody tr th {\n",
       "        vertical-align: top;\n",
       "    }\n",
       "\n",
       "    .dataframe thead th {\n",
       "        text-align: right;\n",
       "    }\n",
       "</style>\n",
       "<table border=\"1\" class=\"dataframe\">\n",
       "  <thead>\n",
       "    <tr style=\"text-align: right;\">\n",
       "      <th></th>\n",
       "      <th>match_api_id</th>\n",
       "      <th>date</th>\n",
       "      <th>league_id</th>\n",
       "      <th>stage</th>\n",
       "      <th>home_team_api_id</th>\n",
       "      <th>away_team_api_id</th>\n",
       "      <th>home_team_goal</th>\n",
       "      <th>away_team_goal</th>\n",
       "      <th>home_team_name</th>\n",
       "      <th>away_team_name</th>\n",
       "      <th>league_name</th>\n",
       "    </tr>\n",
       "  </thead>\n",
       "  <tbody>\n",
       "    <tr>\n",
       "      <td>0</td>\n",
       "      <td>492473</td>\n",
       "      <td>2008-08-17 00:00:00</td>\n",
       "      <td>1</td>\n",
       "      <td>1</td>\n",
       "      <td>9987</td>\n",
       "      <td>9993</td>\n",
       "      <td>1</td>\n",
       "      <td>1</td>\n",
       "      <td>KRC Genk</td>\n",
       "      <td>Beerschot AC</td>\n",
       "      <td>Belgium Jupiler League</td>\n",
       "    </tr>\n",
       "    <tr>\n",
       "      <td>1</td>\n",
       "      <td>665353</td>\n",
       "      <td>2009-08-30 00:00:00</td>\n",
       "      <td>1</td>\n",
       "      <td>5</td>\n",
       "      <td>9987</td>\n",
       "      <td>9993</td>\n",
       "      <td>1</td>\n",
       "      <td>1</td>\n",
       "      <td>KRC Genk</td>\n",
       "      <td>Beerschot AC</td>\n",
       "      <td>Belgium Jupiler League</td>\n",
       "    </tr>\n",
       "    <tr>\n",
       "      <td>2</td>\n",
       "      <td>838476</td>\n",
       "      <td>2010-08-01 00:00:00</td>\n",
       "      <td>1</td>\n",
       "      <td>1</td>\n",
       "      <td>9987</td>\n",
       "      <td>9993</td>\n",
       "      <td>2</td>\n",
       "      <td>1</td>\n",
       "      <td>KRC Genk</td>\n",
       "      <td>Beerschot AC</td>\n",
       "      <td>Belgium Jupiler League</td>\n",
       "    </tr>\n",
       "    <tr>\n",
       "      <td>3</td>\n",
       "      <td>1032694</td>\n",
       "      <td>2011-07-30 00:00:00</td>\n",
       "      <td>1</td>\n",
       "      <td>1</td>\n",
       "      <td>9987</td>\n",
       "      <td>9993</td>\n",
       "      <td>3</td>\n",
       "      <td>1</td>\n",
       "      <td>KRC Genk</td>\n",
       "      <td>Beerschot AC</td>\n",
       "      <td>Belgium Jupiler League</td>\n",
       "    </tr>\n",
       "    <tr>\n",
       "      <td>4</td>\n",
       "      <td>1224064</td>\n",
       "      <td>2012-10-20 00:00:00</td>\n",
       "      <td>1</td>\n",
       "      <td>11</td>\n",
       "      <td>9987</td>\n",
       "      <td>9993</td>\n",
       "      <td>3</td>\n",
       "      <td>0</td>\n",
       "      <td>KRC Genk</td>\n",
       "      <td>Beerschot AC</td>\n",
       "      <td>Belgium Jupiler League</td>\n",
       "    </tr>\n",
       "  </tbody>\n",
       "</table>\n",
       "</div>"
      ],
      "text/plain": [
       "   match_api_id                 date  league_id  stage  home_team_api_id  \\\n",
       "0        492473  2008-08-17 00:00:00          1      1              9987   \n",
       "1        665353  2009-08-30 00:00:00          1      5              9987   \n",
       "2        838476  2010-08-01 00:00:00          1      1              9987   \n",
       "3       1032694  2011-07-30 00:00:00          1      1              9987   \n",
       "4       1224064  2012-10-20 00:00:00          1     11              9987   \n",
       "\n",
       "   away_team_api_id  home_team_goal  away_team_goal home_team_name  \\\n",
       "0              9993               1               1       KRC Genk   \n",
       "1              9993               1               1       KRC Genk   \n",
       "2              9993               2               1       KRC Genk   \n",
       "3              9993               3               1       KRC Genk   \n",
       "4              9993               3               0       KRC Genk   \n",
       "\n",
       "  away_team_name             league_name  \n",
       "0   Beerschot AC  Belgium Jupiler League  \n",
       "1   Beerschot AC  Belgium Jupiler League  \n",
       "2   Beerschot AC  Belgium Jupiler League  \n",
       "3   Beerschot AC  Belgium Jupiler League  \n",
       "4   Beerschot AC  Belgium Jupiler League  "
      ]
     },
     "execution_count": 140,
     "metadata": {},
     "output_type": "execute_result"
    }
   ],
   "source": [
    "# Merge df_league_revised with df_match_combined\n",
    "\n",
    "df_match_combined = pd.merge(df_match_combined, df_league_revised, left_on='league_id', right_on='league_id')\n",
    "\n",
    "df_match_combined.head(5)"
   ]
  },
  {
   "cell_type": "markdown",
   "metadata": {},
   "source": [
    "### *Cleaned Data Initial Exploration*\n",
    "___"
   ]
  },
  {
   "cell_type": "code",
   "execution_count": 141,
   "metadata": {},
   "outputs": [
    {
     "data": {
      "image/png": "[encoded data removed]",
      "text/plain": [
       "<Figure size 432x288 with 1 Axes>"
      ]
     },
     "metadata": {
      "needs_background": "light"
     },
     "output_type": "display_data"
    }
   ],
   "source": [
    "plt = df_match_combined.boxplot(by ='league_name', column =['home_team_goal'], grid = False, rot=90)"
   ]
  },
  {
   "cell_type": "code",
   "execution_count": 142,
   "metadata": {},
   "outputs": [
    {
     "data": {
      "image/png": "[encoded data removed]",
      "text/plain": [
       "<Figure size 432x288 with 1 Axes>"
      ]
     },
     "metadata": {
      "needs_background": "light"
     },
     "output_type": "display_data"
    }
   ],
   "source": [
    "plt = df_match_combined.boxplot(by ='league_name', column =['away_team_goal'], grid = False, rot=90)"
   ]
  },
  {
   "cell_type": "markdown",
   "metadata": {},
   "source": [
    "##### Outliers within the dataset\n",
    "\n",
    "Relying on ```.describe()``` to summarize the dataset, does not provide enough context. The boxplots are a good demonstration of outliers while exploring goals scored by home and away teams."
   ]
  },
  {
   "cell_type": "markdown",
   "metadata": {},
   "source": [
    "<a id='eda'></a>\n",
    "## Exploratory Data Analysis\n",
    "\n",
    "### Initial Question: Across European soccer leagues, is the most frequent match result a home team win?"
   ]
  },
  {
   "cell_type": "code",
   "execution_count": 143,
   "metadata": {},
   "outputs": [],
   "source": [
    "# Create function to determine winning team in each row of df_match_combnined\n",
    "\n",
    "def determineWinningTeam(row):\n",
    "\n",
    "    if row['home_team_goal'] == row['away_team_goal']:\n",
    "\n",
    "        result = 'draw'\n",
    "\n",
    "    elif row['home_team_goal'] > row['away_team_goal']:\n",
    "\n",
    "        result = 'home'\n",
    "\n",
    "    else:\n",
    "\n",
    "        result = 'away'\n",
    "\n",
    "    return result"
   ]
  },
  {
   "cell_type": "code",
   "execution_count": 144,
   "metadata": {},
   "outputs": [
    {
     "data": {
      "text/html": [
       "<div>\n",
       "<style scoped>\n",
       "    .dataframe tbody tr th:only-of-type {\n",
       "        vertical-align: middle;\n",
       "    }\n",
       "\n",
       "    .dataframe tbody tr th {\n",
       "        vertical-align: top;\n",
       "    }\n",
       "\n",
       "    .dataframe thead th {\n",
       "        text-align: right;\n",
       "    }\n",
       "</style>\n",
       "<table border=\"1\" class=\"dataframe\">\n",
       "  <thead>\n",
       "    <tr style=\"text-align: right;\">\n",
       "      <th></th>\n",
       "      <th>match_api_id</th>\n",
       "      <th>date</th>\n",
       "      <th>league_id</th>\n",
       "      <th>stage</th>\n",
       "      <th>home_team_api_id</th>\n",
       "      <th>away_team_api_id</th>\n",
       "      <th>home_team_goal</th>\n",
       "      <th>away_team_goal</th>\n",
       "      <th>home_team_name</th>\n",
       "      <th>away_team_name</th>\n",
       "      <th>league_name</th>\n",
       "      <th>match_result</th>\n",
       "    </tr>\n",
       "  </thead>\n",
       "  <tbody>\n",
       "    <tr>\n",
       "      <td>0</td>\n",
       "      <td>492473</td>\n",
       "      <td>2008-08-17 00:00:00</td>\n",
       "      <td>1</td>\n",
       "      <td>1</td>\n",
       "      <td>9987</td>\n",
       "      <td>9993</td>\n",
       "      <td>1</td>\n",
       "      <td>1</td>\n",
       "      <td>KRC Genk</td>\n",
       "      <td>Beerschot AC</td>\n",
       "      <td>Belgium Jupiler League</td>\n",
       "      <td>draw</td>\n",
       "    </tr>\n",
       "    <tr>\n",
       "      <td>1</td>\n",
       "      <td>665353</td>\n",
       "      <td>2009-08-30 00:00:00</td>\n",
       "      <td>1</td>\n",
       "      <td>5</td>\n",
       "      <td>9987</td>\n",
       "      <td>9993</td>\n",
       "      <td>1</td>\n",
       "      <td>1</td>\n",
       "      <td>KRC Genk</td>\n",
       "      <td>Beerschot AC</td>\n",
       "      <td>Belgium Jupiler League</td>\n",
       "      <td>draw</td>\n",
       "    </tr>\n",
       "    <tr>\n",
       "      <td>2</td>\n",
       "      <td>838476</td>\n",
       "      <td>2010-08-01 00:00:00</td>\n",
       "      <td>1</td>\n",
       "      <td>1</td>\n",
       "      <td>9987</td>\n",
       "      <td>9993</td>\n",
       "      <td>2</td>\n",
       "      <td>1</td>\n",
       "      <td>KRC Genk</td>\n",
       "      <td>Beerschot AC</td>\n",
       "      <td>Belgium Jupiler League</td>\n",
       "      <td>home</td>\n",
       "    </tr>\n",
       "    <tr>\n",
       "      <td>3</td>\n",
       "      <td>1032694</td>\n",
       "      <td>2011-07-30 00:00:00</td>\n",
       "      <td>1</td>\n",
       "      <td>1</td>\n",
       "      <td>9987</td>\n",
       "      <td>9993</td>\n",
       "      <td>3</td>\n",
       "      <td>1</td>\n",
       "      <td>KRC Genk</td>\n",
       "      <td>Beerschot AC</td>\n",
       "      <td>Belgium Jupiler League</td>\n",
       "      <td>home</td>\n",
       "    </tr>\n",
       "    <tr>\n",
       "      <td>4</td>\n",
       "      <td>1224064</td>\n",
       "      <td>2012-10-20 00:00:00</td>\n",
       "      <td>1</td>\n",
       "      <td>11</td>\n",
       "      <td>9987</td>\n",
       "      <td>9993</td>\n",
       "      <td>3</td>\n",
       "      <td>0</td>\n",
       "      <td>KRC Genk</td>\n",
       "      <td>Beerschot AC</td>\n",
       "      <td>Belgium Jupiler League</td>\n",
       "      <td>home</td>\n",
       "    </tr>\n",
       "  </tbody>\n",
       "</table>\n",
       "</div>"
      ],
      "text/plain": [
       "   match_api_id                 date  league_id  stage  home_team_api_id  \\\n",
       "0        492473  2008-08-17 00:00:00          1      1              9987   \n",
       "1        665353  2009-08-30 00:00:00          1      5              9987   \n",
       "2        838476  2010-08-01 00:00:00          1      1              9987   \n",
       "3       1032694  2011-07-30 00:00:00          1      1              9987   \n",
       "4       1224064  2012-10-20 00:00:00          1     11              9987   \n",
       "\n",
       "   away_team_api_id  home_team_goal  away_team_goal home_team_name  \\\n",
       "0              9993               1               1       KRC Genk   \n",
       "1              9993               1               1       KRC Genk   \n",
       "2              9993               2               1       KRC Genk   \n",
       "3              9993               3               1       KRC Genk   \n",
       "4              9993               3               0       KRC Genk   \n",
       "\n",
       "  away_team_name             league_name match_result  \n",
       "0   Beerschot AC  Belgium Jupiler League         draw  \n",
       "1   Beerschot AC  Belgium Jupiler League         draw  \n",
       "2   Beerschot AC  Belgium Jupiler League         home  \n",
       "3   Beerschot AC  Belgium Jupiler League         home  \n",
       "4   Beerschot AC  Belgium Jupiler League         home  "
      ]
     },
     "execution_count": 144,
     "metadata": {},
     "output_type": "execute_result"
    }
   ],
   "source": [
    "# Run function and set match_result for each match\n",
    "\n",
    "df_match_combined['match_result'] = df_match_combined.apply(determineWinningTeam, axis=1)\n",
    "\n",
    "# Verify match_result column displays\n",
    "\n",
    "df_match_combined.head(5)"
   ]
  },
  {
   "cell_type": "code",
   "execution_count": 145,
   "metadata": {},
   "outputs": [
    {
     "data": {
      "text/plain": [
       "home    11917\n",
       "away     7466\n",
       "draw     6596\n",
       "Name: match_result, dtype: int64"
      ]
     },
     "execution_count": 145,
     "metadata": {},
     "output_type": "execute_result"
    }
   ],
   "source": [
    "df_match_combined['match_result'].value_counts()"
   ]
  },
  {
   "cell_type": "code",
   "execution_count": 146,
   "metadata": {},
   "outputs": [
    {
     "name": "stdout",
     "output_type": "stream",
     "text": [
      "11917\n"
     ]
    }
   ],
   "source": [
    "# Return all rows with match_result of 'home' and count number of rows\n",
    "\n",
    "total_home_wins = df_match_combined[df_match_combined.match_result == 'home'].shape[0]\n",
    "\n",
    "print(total_home_wins)"
   ]
  },
  {
   "cell_type": "code",
   "execution_count": 147,
   "metadata": {},
   "outputs": [
    {
     "name": "stdout",
     "output_type": "stream",
     "text": [
      "7466\n"
     ]
    }
   ],
   "source": [
    "# Return all rows with match_result of 'away' and count number of rows\n",
    "\n",
    "total_away_wins = df_match_combined[df_match_combined.match_result == 'away'].shape[0]\n",
    "\n",
    "print(total_away_wins)"
   ]
  },
  {
   "cell_type": "code",
   "execution_count": 148,
   "metadata": {},
   "outputs": [
    {
     "name": "stdout",
     "output_type": "stream",
     "text": [
      "6596\n"
     ]
    }
   ],
   "source": [
    "# Return all rows with match_result of 'draw' and count number of rows\n",
    "\n",
    "total_draws = df_match_combined[df_match_combined.match_result == 'draw'].shape[0]\n",
    "\n",
    "print(total_draws)"
   ]
  },
  {
   "cell_type": "code",
   "execution_count": 149,
   "metadata": {},
   "outputs": [
    {
     "name": "stdout",
     "output_type": "stream",
     "text": [
      "25979\n"
     ]
    }
   ],
   "source": [
    "# Count total number of matches across data set\n",
    "\n",
    "total_games_played = df_match_combined.shape[0]\n",
    "\n",
    "print(total_games_played)"
   ]
  },
  {
   "cell_type": "code",
   "execution_count": 150,
   "metadata": {},
   "outputs": [
    {
     "name": "stdout",
     "output_type": "stream",
     "text": [
      "Overall Home Win Percentage:  45.87166557604219\n",
      "Overall Away Win Percentage:  28.738596558759\n",
      "Overall Draw Percentage:  25.389737865198814\n"
     ]
    }
   ],
   "source": [
    "# Calculate percentage of match results for home wins, away wins and draws\n",
    "\n",
    "overall_home_win_percentage = (total_home_wins / total_games_played) * 100\n",
    "overall_away_win_percentage = (total_away_wins / total_games_played) * 100\n",
    "overall_draw_percentage = (total_draws / total_games_played) * 100\n",
    "\n",
    "print('Overall Home Win Percentage: ', overall_home_win_percentage)\n",
    "print('Overall Away Win Percentage: ', overall_away_win_percentage)\n",
    "print('Overall Draw Percentage: ', overall_draw_percentage)"
   ]
  },
  {
   "cell_type": "code",
   "execution_count": 151,
   "metadata": {},
   "outputs": [
    {
     "data": {
      "image/png": "[encoded data removed]",
      "text/plain": [
       "<Figure size 432x288 with 1 Axes>"
      ]
     },
     "metadata": {},
     "output_type": "display_data"
    }
   ],
   "source": [
    "match_results = df_match_combined.groupby('match_result').size()\n",
    "\n",
    "plt = match_results.plot(kind='pie', title='Results For European Matches (2008 - 2016)', labels=['Away Win', 'Draw', 'Home Win'], autopct='%1.1f%%', shadow=True, startangle=90)\n",
    "\n",
    "plet = plt.set_ylabel('')"
   ]
  },
  {
   "cell_type": "markdown",
   "metadata": {},
   "source": [
    "### *Across all European leagues - the home team wins the match 45% of the time!*\n",
    "\n",
    "Now, let's explore the breakdown of match results by league."
   ]
  },
  {
   "cell_type": "code",
   "execution_count": 152,
   "metadata": {},
   "outputs": [],
   "source": [
    "# Create data set of individual league home win, away win and draw percentages\n",
    "\n",
    "leagues = df_match_combined.league_name.unique()\n",
    "\n",
    "data = []\n",
    "\n",
    "for league in leagues:\n",
    "    home_wins = df_match_combined.loc[(df_match_combined['league_name'] == league) & (df_match_combined['match_result'] == 'home')].shape[0]\n",
    "    away_wins = df_match_combined.loc[(df_match_combined['league_name'] == league) & (df_match_combined['match_result'] == 'away')].shape[0]\n",
    "    draws = df_match_combined.loc[(df_match_combined['league_name'] == league) & (df_match_combined['match_result'] == 'draw')].shape[0]\n",
    "    \n",
    "    total_league_games = home_wins + away_wins + draws\n",
    "    \n",
    "    home_win_percentage = (home_wins / total_league_games) * 100\n",
    "    away_win_percentage = (away_wins / total_league_games) * 100\n",
    "    draw_percentage = (draws / total_league_games) * 100\n",
    "    \n",
    "    data.append([league, home_win_percentage, away_win_percentage, draw_percentage])"
   ]
  },
  {
   "cell_type": "markdown",
   "metadata": {},
   "source": [
    "### Match Result: Home Team Wins"
   ]
  },
  {
   "cell_type": "code",
   "execution_count": 153,
   "metadata": {},
   "outputs": [],
   "source": [
    "# Create dataframe with percentages by league with specified columns\n",
    "\n",
    "df = pd.DataFrame(data=data, columns=[\"league\", \"Home Win Rate\", \"Away Win Rate\", 'Draw Rate'])"
   ]
  },
  {
   "cell_type": "code",
   "execution_count": 154,
   "metadata": {},
   "outputs": [],
   "source": [
    "# Prepare dataframe to be displayed - sort values by Home Win Rate\n",
    "\n",
    "df_win = df.sort_values(by=['Home Win Rate'], ascending=False)"
   ]
  },
  {
   "cell_type": "code",
   "execution_count": 155,
   "metadata": {},
   "outputs": [
    {
     "data": {
      "text/plain": [
       "<matplotlib.legend.Legend at 0x11a965790>"
      ]
     },
     "execution_count": 155,
     "metadata": {},
     "output_type": "execute_result"
    },
    {
     "data": {
      "image/png": "[encoded data removed]",
      "text/plain": [
       "<Figure size 432x288 with 1 Axes>"
      ]
     },
     "metadata": {
      "needs_background": "light"
     },
     "output_type": "display_data"
    }
   ],
   "source": [
    "# Plot df_win and display European League average home win percentage for comparison\n",
    "\n",
    "plt = df_win.plot.bar(x='league', y='Home Win Rate')\n",
    "\n",
    "plt.set_xticklabels(df_win.league, rotation=90)\n",
    "plt.set_title('Home Team Win Rate by European League')\n",
    "plt.set_xlabel('European League')\n",
    "plt.set_ylabel('Percent');\n",
    "plt.set_ylim(bottom=40)\n",
    "plt.axhline(y=overall_home_win_percentage, color='g', linestyle='--', label=\"European League Average\")\n",
    "plt.legend()"
   ]
  },
  {
   "cell_type": "markdown",
   "metadata": {},
   "source": [
    "### *Only 4 out of the 11 leagues have a home team win rate greater than the 45% average across all leagues*\n",
    "___"
   ]
  },
  {
   "cell_type": "markdown",
   "metadata": {},
   "source": [
    "### Match Result: Away Team Wins"
   ]
  },
  {
   "cell_type": "code",
   "execution_count": 156,
   "metadata": {},
   "outputs": [],
   "source": [
    "# Prepare dataframe to be displayed - sort values by Away Win Rate\n",
    "\n",
    "df_away = df.sort_values(by=['Away Win Rate'], ascending=False)"
   ]
  },
  {
   "cell_type": "code",
   "execution_count": 157,
   "metadata": {},
   "outputs": [
    {
     "data": {
      "text/plain": [
       "<matplotlib.legend.Legend at 0x11a7759d0>"
      ]
     },
     "execution_count": 157,
     "metadata": {},
     "output_type": "execute_result"
    },
    {
     "data": {
      "image/png": "[encoded data removed]",
      "text/plain": [
       "<Figure size 432x288 with 1 Axes>"
      ]
     },
     "metadata": {
      "needs_background": "light"
     },
     "output_type": "display_data"
    }
   ],
   "source": [
    "# Plot df_away and display European League average home win percentage for comparison\n",
    "\n",
    "plt = df_away.plot.bar(x='league', y='Away Win Rate')\n",
    "\n",
    "plt.set_xticklabels(df_away.league, rotation=90)\n",
    "plt.set_title('Away Team Win Rate by European League')\n",
    "plt.set_xlabel('European League')\n",
    "plt.set_ylabel('Percent');\n",
    "plt.set_ylim(bottom=20)\n",
    "plt.axhline(y=overall_away_win_percentage, color='g', linestyle='--', label=\"European League Average\")\n",
    "plt.legend()"
   ]
  },
  {
   "cell_type": "markdown",
   "metadata": {},
   "source": [
    "### *If you're looking to see the away team win, I recommend attending a Scotland Premier League match!*\n",
    "___"
   ]
  },
  {
   "cell_type": "markdown",
   "metadata": {},
   "source": [
    "### Match Result: Draw"
   ]
  },
  {
   "cell_type": "code",
   "execution_count": 158,
   "metadata": {},
   "outputs": [],
   "source": [
    "# Prepare dataframe to be displayed - sort values by Draw Rate\n",
    "\n",
    "df_draw = df.sort_values(by=['Draw Rate'], ascending=False)"
   ]
  },
  {
   "cell_type": "code",
   "execution_count": 159,
   "metadata": {},
   "outputs": [
    {
     "data": {
      "text/plain": [
       "<matplotlib.legend.Legend at 0x119a690d0>"
      ]
     },
     "execution_count": 159,
     "metadata": {},
     "output_type": "execute_result"
    },
    {
     "data": {
      "image/png": "[encoded data removed]",
      "text/plain": [
       "<Figure size 432x288 with 1 Axes>"
      ]
     },
     "metadata": {
      "needs_background": "light"
     },
     "output_type": "display_data"
    }
   ],
   "source": [
    "# Plot df_draw and display European League average draw percentage for comparison\n",
    "\n",
    "plt = df_draw.plot.bar(x='league', y='Draw Rate')\n",
    "\n",
    "plt.set_xticklabels(df_draw.league, rotation=90)\n",
    "plt.set_title('Draw Percentage by European League')\n",
    "plt.set_xlabel('European League')\n",
    "plt.set_ylabel('Percent');\n",
    "plt.set_ylim(bottom=20)\n",
    "plt.axhline(y=overall_draw_percentage, color='g', linestyle='--', label=\"European League Average\")\n",
    "plt.legend()"
   ]
  },
  {
   "cell_type": "markdown",
   "metadata": {},
   "source": [
    "### *Matches from the Spain LIGA BBVA league are least likely to end in a draw*\n",
    "____\n",
    "\n",
    "With a better understanding of match result, let's see if there is any correlation to goals scored per league."
   ]
  },
  {
   "cell_type": "markdown",
   "metadata": {},
   "source": [
    "### Initial Question: How do goals scored by the home & away teams per match compare across the European leagues?"
   ]
  },
  {
   "cell_type": "code",
   "execution_count": 160,
   "metadata": {},
   "outputs": [
    {
     "name": "stdout",
     "output_type": "stream",
     "text": [
      "<class 'pandas.core.frame.DataFrame'>\n",
      "Int64Index: 25979 entries, 0 to 25978\n",
      "Data columns (total 12 columns):\n",
      "match_api_id        25979 non-null int64\n",
      "date                25979 non-null object\n",
      "league_id           25979 non-null int64\n",
      "stage               25979 non-null int64\n",
      "home_team_api_id    25979 non-null int64\n",
      "away_team_api_id    25979 non-null int64\n",
      "home_team_goal      25979 non-null int64\n",
      "away_team_goal      25979 non-null int64\n",
      "home_team_name      25979 non-null object\n",
      "away_team_name      25979 non-null object\n",
      "league_name         25979 non-null object\n",
      "match_result        25979 non-null object\n",
      "dtypes: int64(7), object(5)\n",
      "memory usage: 2.6+ MB\n"
     ]
    }
   ],
   "source": [
    "# Refresh original df_match_combined info to see columns\n",
    "\n",
    "df_match_combined.info()"
   ]
  },
  {
   "cell_type": "code",
   "execution_count": 161,
   "metadata": {},
   "outputs": [
    {
     "data": {
      "image/png": "[encoded data removed]",
      "text/plain": [
       "<Figure size 576x288 with 1 Axes>"
      ]
     },
     "metadata": {
      "needs_background": "light"
     },
     "output_type": "display_data"
    }
   ],
   "source": [
    "axarr = df_match_combined.hist(column='home_team_goal', grid=False, figsize=(8,4), color='#86bf91', zorder=2, rwidth=0.95)\n",
    "\n",
    "for ax in axarr.flatten():\n",
    "    ax.set_title(\"Home Team Goals Scored\")\n",
    "    ax.set_xlabel(\"Goals Scored\")\n",
    "    ax.set_ylabel(\"Number of Matches\")"
   ]
  },
  {
   "cell_type": "code",
   "execution_count": 162,
   "metadata": {},
   "outputs": [
    {
     "name": "stdout",
     "output_type": "stream",
     "text": [
      "1.5445937103044767\n"
     ]
    }
   ],
   "source": [
    "# Calculate average number of goals scored by home teams across all European matches\n",
    "\n",
    "overall_average_home_goals_per_game = np.average(df_match_combined.home_team_goal)\n",
    "\n",
    "print(overall_average_home_goals_per_game)"
   ]
  },
  {
   "cell_type": "code",
   "execution_count": 163,
   "metadata": {},
   "outputs": [
    {
     "data": {
      "image/png": "[encoded data removed]",
      "text/plain": [
       "<Figure size 576x288 with 1 Axes>"
      ]
     },
     "metadata": {
      "needs_background": "light"
     },
     "output_type": "display_data"
    }
   ],
   "source": [
    "axarr = df_match_combined.hist(column='away_team_goal', grid=False, figsize=(8,4), color='#86bf91', zorder=2, rwidth=0.95)\n",
    "\n",
    "for ax in axarr.flatten():\n",
    "    ax.set_title(\"Away Team Goals Scored\")\n",
    "    ax.set_xlabel(\"Goals Scored\")\n",
    "    ax.set_ylabel(\"Number of Matches\")"
   ]
  },
  {
   "cell_type": "code",
   "execution_count": 164,
   "metadata": {},
   "outputs": [
    {
     "name": "stdout",
     "output_type": "stream",
     "text": [
      "1.1609376804341969\n"
     ]
    }
   ],
   "source": [
    "# Calculate average number of goals scored by away teams across all European matches\n",
    "\n",
    "overall_average_away_goals_per_game = np.average(df_match_combined.away_team_goal)\n",
    "\n",
    "print(overall_average_away_goals_per_game)"
   ]
  },
  {
   "cell_type": "code",
   "execution_count": 165,
   "metadata": {},
   "outputs": [
    {
     "name": "stdout",
     "output_type": "stream",
     "text": [
      "2.7055313907386735\n"
     ]
    }
   ],
   "source": [
    "# Calculate average number of goals scored per game across all European matches\n",
    "\n",
    "total_goals = np.sum(df_match_combined.home_team_goal) + np.sum(df_match_combined.away_team_goal)\n",
    "\n",
    "overall_average_goals_per_game = total_goals / total_games_played\n",
    "\n",
    "print(overall_average_goals_per_game)"
   ]
  },
  {
   "cell_type": "markdown",
   "metadata": {},
   "source": [
    "##### *As expected -  since the home team wins more often than the away team, the home team averages more goals per game than the away team*\n",
    "___"
   ]
  },
  {
   "cell_type": "code",
   "execution_count": 166,
   "metadata": {},
   "outputs": [],
   "source": [
    "# Create data set of average goals scored for home and away teams by European league\n",
    "\n",
    "data = []\n",
    "\n",
    "for league in leagues:\n",
    "    league_rows = df_match_combined.loc[(df_match_combined['league_name'] == league)]\n",
    "    \n",
    "    average_home_goals_per_game = np.average(league_rows.home_team_goal)\n",
    "    average_away_goals_per_game = np.average(league_rows.away_team_goal)\n",
    "    \n",
    "    home_goals = league_rows.home_team_goal.sum()\n",
    "    away_goals = league_rows.away_team_goal.sum()\n",
    "    total_games = league_rows.shape[0]\n",
    "    average_goals_per_game = (home_goals + away_goals) / total_games\n",
    "    \n",
    "    data.append([league, average_home_goals_per_game, average_away_goals_per_game, average_goals_per_game])"
   ]
  },
  {
   "cell_type": "code",
   "execution_count": 167,
   "metadata": {},
   "outputs": [],
   "source": [
    "# Create dataframe with average goals per match by league with specified columns\n",
    "\n",
    "df = pd.DataFrame(data=data, columns=[\"league\", \"Average Home Goals\", \"Average Away Goals\", \"Average Goals\"])"
   ]
  },
  {
   "cell_type": "markdown",
   "metadata": {},
   "source": [
    "### Home Goals Per Game Comparison"
   ]
  },
  {
   "cell_type": "code",
   "execution_count": 168,
   "metadata": {},
   "outputs": [],
   "source": [
    "# Prepare dataframe to be displayed - sort values by Average Home Goals\n",
    "\n",
    "df_home_goals = df.sort_values(by=['Average Home Goals'], ascending=False)"
   ]
  },
  {
   "cell_type": "code",
   "execution_count": 169,
   "metadata": {},
   "outputs": [
    {
     "data": {
      "text/plain": [
       "<matplotlib.legend.Legend at 0x11a775b90>"
      ]
     },
     "execution_count": 169,
     "metadata": {},
     "output_type": "execute_result"
    },
    {
     "data": {
      "image/png": "[encoded data removed]",
      "text/plain": [
       "<Figure size 432x288 with 1 Axes>"
      ]
     },
     "metadata": {
      "needs_background": "light"
     },
     "output_type": "display_data"
    }
   ],
   "source": [
    "# Plot df_home_goals and display European League average goals per match for comparison\n",
    "\n",
    "plt = df_home_goals.plot.bar(x='league', y='Average Home Goals', color='y')\n",
    "\n",
    "plt.set_xticklabels(df_home_goals.league, rotation=90)\n",
    "plt.set_title('Average Goals Scored by Home Team in European Leagues')\n",
    "plt.set_xlabel('European League')\n",
    "plt.set_ylabel('Goals Scored');\n",
    "plt.set_ylim(bottom=1, top=1.9)\n",
    "plt.axhline(y=overall_average_home_goals_per_game, color='g', linestyle='--', label=\"League Average\")\n",
    "plt.legend()"
   ]
  },
  {
   "cell_type": "markdown",
   "metadata": {},
   "source": [
    "### Away Goals Per Game Comparison"
   ]
  },
  {
   "cell_type": "code",
   "execution_count": 170,
   "metadata": {},
   "outputs": [],
   "source": [
    "# Prepare dataframe to be displayed - sort values by Average Away Goals\n",
    "\n",
    "df_away_goals = df.sort_values(by=['Average Away Goals'], ascending=False)"
   ]
  },
  {
   "cell_type": "code",
   "execution_count": 171,
   "metadata": {},
   "outputs": [
    {
     "data": {
      "text/plain": [
       "<matplotlib.legend.Legend at 0x11981ef50>"
      ]
     },
     "execution_count": 171,
     "metadata": {},
     "output_type": "execute_result"
    },
    {
     "data": {
      "image/png": "[encoded data removed]",
      "text/plain": [
       "<Figure size 432x288 with 1 Axes>"
      ]
     },
     "metadata": {
      "needs_background": "light"
     },
     "output_type": "display_data"
    }
   ],
   "source": [
    "# Plot df_away_goals and display European League average goals per match for comparison\n",
    "\n",
    "plt = df_away_goals.plot.bar(x='league', y='Average Away Goals', color='y')\n",
    "\n",
    "plt.set_xticklabels(df_away_goals.league, rotation=90)\n",
    "plt.set_title('Average Goals Scored by Away Team in European Leagues')\n",
    "plt.set_xlabel('European League')\n",
    "plt.set_ylabel('Goals Scored');\n",
    "plt.set_ylim(bottom=1, top=1.4)\n",
    "plt.axhline(y=overall_average_away_goals_per_game, color='g', linestyle='--', label=\"League Average\")\n",
    "plt.legend()"
   ]
  },
  {
   "cell_type": "markdown",
   "metadata": {},
   "source": [
    "### Total Goals Per Game Comparison"
   ]
  },
  {
   "cell_type": "code",
   "execution_count": 172,
   "metadata": {},
   "outputs": [],
   "source": [
    "# Prepare dataframe to be displayed - sort values by Average Goals\n",
    "\n",
    "df_avg_goals = df.sort_values(by=['Average Goals'], ascending=False)"
   ]
  },
  {
   "cell_type": "code",
   "execution_count": 173,
   "metadata": {},
   "outputs": [
    {
     "data": {
      "text/plain": [
       "<matplotlib.legend.Legend at 0x1197e2f50>"
      ]
     },
     "execution_count": 173,
     "metadata": {},
     "output_type": "execute_result"
    },
    {
     "data": {
      "image/png": "[encoded data removed]",
      "text/plain": [
       "<Figure size 432x288 with 1 Axes>"
      ]
     },
     "metadata": {
      "needs_background": "light"
     },
     "output_type": "display_data"
    }
   ],
   "source": [
    "# Plot df_avg_goals and display European League average goals per match for comparison\n",
    "\n",
    "plt = df_avg_goals.plot.bar(x='league', y='Average Goals', color='y')\n",
    "\n",
    "plt.set_xticklabels(df_avg_goals.league, rotation=90)\n",
    "plt.set_title('Average Goals Scored in European League Matches')\n",
    "plt.set_xlabel('European League')\n",
    "plt.set_ylabel('Goals Scored');\n",
    "plt.set_ylim(bottom=2, top=3.5)\n",
    "plt.axhline(y=overall_average_goals_per_game, color='g', linestyle='--', label=\"European League Average\")\n",
    "plt.legend()"
   ]
  },
  {
   "cell_type": "markdown",
   "metadata": {},
   "source": [
    "_____"
   ]
  },
  {
   "cell_type": "markdown",
   "metadata": {},
   "source": [
    "<a id='conclusions'></a>\n",
    "## Conclusions\n",
    "\n",
    "##### Home Teams Win & Score More Goals\n",
    "\n",
    "My initial hypothesis that the home team wins more often than the away team and averages more goals per game, proved to be correct. Through this analysis, I can confidently state that each European league has a greater percentage of home team wins than away team wins. In addition, the home team averages more goals per game in each league than the away team.\n",
    "\n",
    "\n",
    "###### But... the most likely outcome is that the home team does not win...\n",
    "\n",
    "One aspect of this analysis that I found interesting was the home win rate compared to any other match result (away win or draw). In this case, no European league home win rate exceeds 50% - meaning that a home win is not necessarily the most likely outcome of a match. In fact, it would appear as though it is more likely for an away team to win or the match to end in a draw than for the home team to win.\n",
    "\n",
    "\n",
    "###### There's always more to do!\n",
    "\n",
    "This exploration should not be relied on to make conclusions about the probability of a match resulting in a win, loss or draw. I chose to explore match results and goals scored across *all* European League matches. The focus of this analysis could be narrowed by analyzing results of a single team. Drilling down to the team level would enable additional conclusion about how likely that a team's home match - for example - would end in a win.\n",
    "\n",
    "There are many questions yet to be answered through this analysis - here are a few that come to mind: \n",
    "\n",
    "1. Does opponent difficulty affect the result's of a team's home match win/loss/draw record?\n",
    "\n",
    "2. How are team records affected when their roster is changed year over year?\n",
    "\n",
    "3. Are matches ever played at 'neutral' locations?\n",
    "\n",
    "These questions would be a good starting place if exploring this dataset in the future.\n",
    "\n",
    "___"
   ]
  },
  {
   "cell_type": "markdown",
   "metadata": {},
   "source": [
    "<a id='resources'></a>\n",
    "\n",
    "## Resources\n",
    "\n",
    "*European Soccer Data: https://www.kaggle.com/hugomathien/soccer* "
   ]
  }
 ],
 "metadata": {
  "kernelspec": {
   "display_name": "Python 3",
   "language": "python",
   "name": "python3"
  },
  "language_info": {
   "codemirror_mode": {
    "name": "ipython",
    "version": 3
   },
   "file_extension": ".py",
   "mimetype": "text/x-python",
   "name": "python",
   "nbconvert_exporter": "python",
   "pygments_lexer": "ipython3",
   "version": "3.7.4"
  }
 },
 "nbformat": 4,
 "nbformat_minor": 2
}
